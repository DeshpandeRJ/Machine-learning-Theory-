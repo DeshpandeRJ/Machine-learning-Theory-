{
 "cells": [
  {
   "cell_type": "markdown",
   "id": "bd955958",
   "metadata": {},
   "source": [
    "### 1. What does one mean by the term \"machine learning\"?\n",
    "#### Ans:\n",
    "\"\"\"\n",
    "1)A computer program is said to learn from experience E with respect to some task T and some performance measure P , if its performance on T , as measured by P, improves with experience E. collectively its called as machine leaarning.\n",
    "\n",
    "2)Machine learning is the study that gives computers the ability to learn without neing explicitely programmed\n",
    "\"\"\""
   ]
  },
  {
   "cell_type": "markdown",
   "id": "7c61e720",
   "metadata": {},
   "source": [
    "### 2.Can you think of 4 distinct types of issues where it shines?\n",
    "#### Ans:\n",
    "\"\"\"\n",
    "\n",
    "Machine Learning is great for complex problems for which we have no algorithmic solution, to\n",
    "replace long lists of hand-tuned rules, to build systems that adapt to fluctuating environments, and\n",
    "finally to help humans learn\n",
    "\n",
    "1) Supervised Machine Learning.\n",
    "\n",
    "2) Unsupervised Machine Learning.\n",
    "\n",
    "3) Reinforcement Machine Learning.\n",
    "\n",
    "4) Semi-supervised Machine Learning.\n",
    "\n",
    "\"\"\""
   ]
  },
  {
   "cell_type": "markdown",
   "id": "692c8161",
   "metadata": {},
   "source": [
    "### 3.What is a labeled training set, and how does it work?\n",
    "#### Ans:\n",
    "Labeled training set is nothing but the set which contains desired solution for each instance."
   ]
  },
  {
   "cell_type": "markdown",
   "id": "becd624b",
   "metadata": {},
   "source": [
    "### 4.What are the two most important tasks that are supervised?\n",
    "#### Ans:\n",
    "Two most Important tasks in supervised learning are Regression and classification."
   ]
  },
  {
   "cell_type": "markdown",
   "id": "5d137553",
   "metadata": {},
   "source": [
    "### 5.Can you think of four examples of unsupervised tasks?\n",
    "#### Ans:\n",
    "common unsupervised tasks are clustering, dimension reduction, visualisation and assosiation rule"
   ]
  },
  {
   "cell_type": "markdown",
   "id": "e28ea66f",
   "metadata": {},
   "source": [
    "### 6.State the machine learning model that would be best to make a robot walk through various unfamiliar terrains?\n",
    "#### Ans:\n",
    "Reinforcement machine learning."
   ]
  },
  {
   "cell_type": "markdown",
   "id": "2f7d4616",
   "metadata": {},
   "source": [
    "### 7.Which algorithm will you use to divide your customers into different groups?\n",
    "#### Ans:\n",
    "if we dont know how to group then use clustering. and if we know the groups then use classification."
   ]
  },
  {
   "cell_type": "markdown",
   "id": "f34d7095",
   "metadata": {},
   "source": [
    "### 8.Will you consider the problem of spam detection to be a supervised or unsupervised learning problem?\n",
    "#### Ans:\n",
    "its supervised machine learning problem."
   ]
  },
  {
   "cell_type": "markdown",
   "id": "0d8ccdf9",
   "metadata": {},
   "source": [
    "### 9.What is the concept of an online learning system?\n",
    "#### Ans:\n",
    "An online learning system can learn incrementally, as opposed to a batch learning system. This\n",
    "makes it capable of adapting rapidly to both changing data and autonomous systems, and of training\n",
    "on very large quantities of data."
   ]
  },
  {
   "cell_type": "markdown",
   "id": "24875ea1",
   "metadata": {},
   "source": [
    "### 10.What is out-of-core learning, and how does it differ from core learning?\n",
    "#### Ans:\n",
    "Out-of-core algorithms can handle vast quantities of data that cannot fit in a computer’s main\n",
    "memory. An out-of-core learning algorithm chops the data into mini-batches and uses online learning\n",
    "techniques to learn from these mini-batches."
   ]
  },
  {
   "cell_type": "markdown",
   "id": "0fad041e",
   "metadata": {},
   "source": [
    "### 11.What kind of learning algorithm makes predictions using a similarity measure?\n",
    "#### Ans:\n",
    "An instance-based learning system learns the training data by heart; then, when given a new instance,\n",
    "it uses a similarity measure to find the most similar learned instances and uses them to make\n",
    "predictions."
   ]
  },
  {
   "cell_type": "markdown",
   "id": "43c12f9a",
   "metadata": {},
   "source": [
    "### 12.What's the difference between a model parameter and a hyperparameter in a learning algorithm?\n",
    "#### Ans:\n",
    "A model has one or more model parameters that determine what it will predict given a new instance\n",
    "(e.g., the slope of a linear model). A learning algorithm tries to find optimal values for these\n",
    "parameters such that the model generalizes well to new instances. A hyperparameter is a parameter\n",
    "of the learning algorithm itself, not of the model (e.g., the amount of regularization to apply)"
   ]
  },
  {
   "cell_type": "markdown",
   "id": "6b9fcde2",
   "metadata": {},
   "source": [
    "### 13.What are the criteria that model-based learning algorithms look for? What is the most popular method they use to achieve success? What method do they use to make predictions?\n",
    "#### Ans:\n",
    " Model-based learning algorithms search for an optimal value for the model parameters such that the\n",
    "model will generalize well to new instances. We usually train such systems by minimizing a cost\n",
    "function that measures how bad the system is at making predictions on the training data, plus a\n",
    "penalty for model complexity if the model is regularized. To make predictions, we feed the new\n",
    "instance’s features into the model’s prediction function, using the parameter values found by the\n",
    "learning algorithm.\n"
   ]
  },
  {
   "cell_type": "markdown",
   "id": "dd50042f",
   "metadata": {},
   "source": [
    "### 14.Can you name four of the most important Machine Learning challenges?\n",
    "#### Ans:\n",
    "\"\"\"\n",
    "\n",
    "1) lack of data.\n",
    "\n",
    "2) poor qua;ity data.\n",
    "\n",
    "3) uninformative features.\n",
    "\n",
    "4) overfitting and underfitting.\n",
    "\n",
    "\"\"\""
   ]
  },
  {
   "cell_type": "markdown",
   "id": "905a3546",
   "metadata": {},
   "source": [
    "### 15.What happens if the model performs well on the training data but fails to generalize the results to new situations? Can you think of three different options?\n",
    "#### Ans:\n",
    "If a model performs great on the training data but generalizes poorly to new instances, the model is\n",
    "likely overfitting the training data (or we got extremely lucky on the training data). Possible solutions\n",
    "to overfitting are getting more data, simplifying the model (selecting a simpler algorithm, reducing\n",
    "the number of parameters or features used, or regularizing the model), or reducing the noise in the\n",
    "training data."
   ]
  },
  {
   "cell_type": "markdown",
   "id": "14a4ee80",
   "metadata": {},
   "source": [
    "### 16.What exactly is a test set, and why would you need one?\n",
    "#### Ans:\n",
    "A test set is used to estimate the generalization error that a model will make on new instances, before\n",
    "the model is launched in production."
   ]
  },
  {
   "cell_type": "markdown",
   "id": "7ff5a30a",
   "metadata": {},
   "source": [
    "### 17.What is a validation set's purpose?\n",
    "#### Ans:\n",
    "A validation set is used to compare models. It makes it possible to select the best model and tune the\n",
    "hyperparameters."
   ]
  },
  {
   "cell_type": "markdown",
   "id": "a3523085",
   "metadata": {},
   "source": [
    "### 18.What precisely is the train-dev kit, when will you need it, how do you put it to use?\n",
    "#### Ans:\n",
    "\"\"\"\n",
    "Setting up the training, development (dev) and test sets has a huge impact on productivity. It is important to choose the dev and test sets from the same distribution and it must be taken randomly from all the data\n",
    "\n",
    "if the training set and dev sets have different distributions, it is good practice to introduce a train-dev set that has the same distribution as the training set. This train-dev set will be used to measure how much the model is overfitting.\"\"\""
   ]
  },
  {
   "cell_type": "markdown",
   "id": "3a4da5c2",
   "metadata": {},
   "source": [
    "### 19.What could go wrong if you use the test set to tune hyperparameters?\n",
    "#### Ans:\n",
    "If you tune hyperparameters using the test set, you risk overfitting the test set, and the generalization\n",
    "error you measure will be optimistic (you may launch a model that performs worse than you expect)."
   ]
  },
  {
   "cell_type": "code",
   "execution_count": null,
   "id": "c045bd39",
   "metadata": {},
   "outputs": [],
   "source": []
  }
 ],
 "metadata": {
  "kernelspec": {
   "display_name": "Python 3 (ipykernel)",
   "language": "python",
   "name": "python3"
  },
  "language_info": {
   "codemirror_mode": {
    "name": "ipython",
    "version": 3
   },
   "file_extension": ".py",
   "mimetype": "text/x-python",
   "name": "python",
   "nbconvert_exporter": "python",
   "pygments_lexer": "ipython3",
   "version": "3.7.11"
  }
 },
 "nbformat": 4,
 "nbformat_minor": 5
}
